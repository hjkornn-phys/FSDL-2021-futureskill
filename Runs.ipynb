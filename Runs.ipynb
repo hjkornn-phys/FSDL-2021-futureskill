{
  "nbformat": 4,
  "nbformat_minor": 0,
  "metadata": {
    "accelerator": "GPU",
    "colab": {
      "name": "P100.ipynb의 사본",
      "provenance": [],
      "collapsed_sections": [],
      "machine_shape": "hm",
      "include_colab_link": true
    },
    "kernelspec": {
      "display_name": "Python 3",
      "name": "python3"
    }
  },
  "cells": [
    {
      "cell_type": "markdown",
      "metadata": {
        "id": "view-in-github",
        "colab_type": "text"
      },
      "source": [
        "<a href=\"https://colab.research.google.com/github/hjkornn-phys/FSDL-2021-futureskill/blob/main/Runs.ipynb\" target=\"_parent\"><img src=\"https://colab.research.google.com/assets/colab-badge.svg\" alt=\"Open In Colab\"/></a>"
      ]
    },
    {
      "cell_type": "code",
      "metadata": {
        "colab": {
          "base_uri": "https://localhost:8080/"
        },
        "id": "pJbYXou6chZf",
        "outputId": "11bc04b9-d209-4ed1-96fe-d0a73eb25db4"
      },
      "source": [
        "!nvidia-smi"
      ],
      "execution_count": 1,
      "outputs": [
        {
          "output_type": "stream",
          "text": [
            "Sun Apr 18 06:32:01 2021       \n",
            "+-----------------------------------------------------------------------------+\n",
            "| NVIDIA-SMI 460.67       Driver Version: 460.32.03    CUDA Version: 11.2     |\n",
            "|-------------------------------+----------------------+----------------------+\n",
            "| GPU  Name        Persistence-M| Bus-Id        Disp.A | Volatile Uncorr. ECC |\n",
            "| Fan  Temp  Perf  Pwr:Usage/Cap|         Memory-Usage | GPU-Util  Compute M. |\n",
            "|                               |                      |               MIG M. |\n",
            "|===============================+======================+======================|\n",
            "|   0  Tesla T4            Off  | 00000000:00:04.0 Off |                    0 |\n",
            "| N/A   37C    P8     9W /  70W |      0MiB / 15109MiB |      0%      Default |\n",
            "|                               |                      |                  N/A |\n",
            "+-------------------------------+----------------------+----------------------+\n",
            "                                                                               \n",
            "+-----------------------------------------------------------------------------+\n",
            "| Processes:                                                                  |\n",
            "|  GPU   GI   CI        PID   Type   Process name                  GPU Memory |\n",
            "|        ID   ID                                                   Usage      |\n",
            "|=============================================================================|\n",
            "|  No running processes found                                                 |\n",
            "+-----------------------------------------------------------------------------+\n"
          ],
          "name": "stdout"
        }
      ]
    },
    {
      "cell_type": "code",
      "metadata": {
        "id": "Grzx1TGCG9Gz",
        "colab": {
          "base_uri": "https://localhost:8080/"
        },
        "outputId": "bfe37906-a451-4043-a8f2-678fd20da9ff"
      },
      "source": [
        "# FSDL Spring 2021 Setup\n",
        "#!git clone https://github.com/hjkornn-phys/FSDL-2021-futureskill\n",
        "%cd FSDL-2021-futureskill\n",
        "!pip3 install boltons wandb pip install torch==1.7.1+cu110 torchvision==0.8.2+cu110 torchaudio==0.7.2 torchtext==0.8.1 -f https://download.pytorch.org/whl/torch_stable.html\n",
        "%env PYTHONPATH=.:$PYTHONPATH"
      ],
      "execution_count": 2,
      "outputs": [
        {
          "output_type": "stream",
          "text": [
            "/content/FSDL-2021-futureskill\n",
            "Looking in links: https://download.pytorch.org/whl/torch_stable.html\n",
            "Requirement already satisfied: boltons in /usr/local/lib/python3.7/dist-packages (20.2.1)\n",
            "Requirement already satisfied: wandb in /usr/local/lib/python3.7/dist-packages (0.10.26)\n",
            "Requirement already satisfied: pip in /usr/local/lib/python3.7/dist-packages (19.3.1)\n",
            "Requirement already satisfied: install in /usr/local/lib/python3.7/dist-packages (1.3.4)\n",
            "Requirement already satisfied: torch==1.7.1+cu110 in /usr/local/lib/python3.7/dist-packages (1.7.1+cu110)\n",
            "Requirement already satisfied: torchvision==0.8.2+cu110 in /usr/local/lib/python3.7/dist-packages (0.8.2+cu110)\n",
            "Requirement already satisfied: torchaudio==0.7.2 in /usr/local/lib/python3.7/dist-packages (0.7.2)\n",
            "Requirement already satisfied: torchtext==0.8.1 in /usr/local/lib/python3.7/dist-packages (0.8.1)\n",
            "Requirement already satisfied: pathtools in /usr/local/lib/python3.7/dist-packages (from wandb) (0.1.2)\n",
            "Requirement already satisfied: protobuf>=3.12.0 in /usr/local/lib/python3.7/dist-packages (from wandb) (3.12.4)\n",
            "Requirement already satisfied: subprocess32>=3.5.3 in /usr/local/lib/python3.7/dist-packages (from wandb) (3.5.4)\n",
            "Requirement already satisfied: psutil>=5.0.0 in /usr/local/lib/python3.7/dist-packages (from wandb) (5.4.8)\n",
            "Requirement already satisfied: shortuuid>=0.5.0 in /usr/local/lib/python3.7/dist-packages (from wandb) (1.0.1)\n",
            "Requirement already satisfied: PyYAML in /usr/local/lib/python3.7/dist-packages (from wandb) (5.4.1)\n",
            "Requirement already satisfied: docker-pycreds>=0.4.0 in /usr/local/lib/python3.7/dist-packages (from wandb) (0.4.0)\n",
            "Requirement already satisfied: six>=1.13.0 in /usr/local/lib/python3.7/dist-packages (from wandb) (1.15.0)\n",
            "Requirement already satisfied: configparser>=3.8.1 in /usr/local/lib/python3.7/dist-packages (from wandb) (5.0.2)\n",
            "Requirement already satisfied: Click>=7.0 in /usr/local/lib/python3.7/dist-packages (from wandb) (7.1.2)\n",
            "Requirement already satisfied: promise<3,>=2.0 in /usr/local/lib/python3.7/dist-packages (from wandb) (2.3)\n",
            "Requirement already satisfied: requests<3,>=2.0.0 in /usr/local/lib/python3.7/dist-packages (from wandb) (2.23.0)\n",
            "Requirement already satisfied: GitPython>=1.0.0 in /usr/local/lib/python3.7/dist-packages (from wandb) (3.1.14)\n",
            "Requirement already satisfied: python-dateutil>=2.6.1 in /usr/local/lib/python3.7/dist-packages (from wandb) (2.8.1)\n",
            "Requirement already satisfied: sentry-sdk>=0.4.0 in /usr/local/lib/python3.7/dist-packages (from wandb) (1.0.0)\n",
            "Requirement already satisfied: numpy in /usr/local/lib/python3.7/dist-packages (from torch==1.7.1+cu110) (1.19.5)\n",
            "Requirement already satisfied: typing-extensions in /usr/local/lib/python3.7/dist-packages (from torch==1.7.1+cu110) (3.7.4.3)\n",
            "Requirement already satisfied: pillow>=4.1.1 in /usr/local/lib/python3.7/dist-packages (from torchvision==0.8.2+cu110) (7.1.2)\n",
            "Requirement already satisfied: tqdm in /usr/local/lib/python3.7/dist-packages (from torchtext==0.8.1) (4.41.1)\n",
            "Requirement already satisfied: setuptools in /usr/local/lib/python3.7/dist-packages (from protobuf>=3.12.0->wandb) (54.2.0)\n",
            "Requirement already satisfied: certifi>=2017.4.17 in /usr/local/lib/python3.7/dist-packages (from requests<3,>=2.0.0->wandb) (2020.12.5)\n",
            "Requirement already satisfied: chardet<4,>=3.0.2 in /usr/local/lib/python3.7/dist-packages (from requests<3,>=2.0.0->wandb) (3.0.4)\n",
            "Requirement already satisfied: idna<3,>=2.5 in /usr/local/lib/python3.7/dist-packages (from requests<3,>=2.0.0->wandb) (2.10)\n",
            "Requirement already satisfied: urllib3!=1.25.0,!=1.25.1,<1.26,>=1.21.1 in /usr/local/lib/python3.7/dist-packages (from requests<3,>=2.0.0->wandb) (1.24.3)\n",
            "Requirement already satisfied: gitdb<5,>=4.0.1 in /usr/local/lib/python3.7/dist-packages (from GitPython>=1.0.0->wandb) (4.0.7)\n",
            "Requirement already satisfied: smmap<5,>=3.0.1 in /usr/local/lib/python3.7/dist-packages (from gitdb<5,>=4.0.1->GitPython>=1.0.0->wandb) (4.0.0)\n",
            "env: PYTHONPATH=.:$PYTHONPATH\n"
          ],
          "name": "stdout"
        }
      ]
    },
    {
      "cell_type": "code",
      "metadata": {
        "id": "UEDZtITPHFkR",
        "colab": {
          "base_uri": "https://localhost:8080/"
        },
        "outputId": "3cbb7393-c7df-47f2-d458-3380e0e3ea0e"
      },
      "source": [
        "!pip3 install pytorch_lightning==1.1.4"
      ],
      "execution_count": 3,
      "outputs": [
        {
          "output_type": "stream",
          "text": [
            "Requirement already satisfied: pytorch_lightning==1.1.4 in /usr/local/lib/python3.7/dist-packages (1.1.4)\n",
            "Requirement already satisfied: future>=0.17.1 in /usr/local/lib/python3.7/dist-packages (from pytorch_lightning==1.1.4) (0.18.2)\n",
            "Requirement already satisfied: PyYAML>=5.1 in /usr/local/lib/python3.7/dist-packages (from pytorch_lightning==1.1.4) (5.4.1)\n",
            "Requirement already satisfied: numpy>=1.16.6 in /usr/local/lib/python3.7/dist-packages (from pytorch_lightning==1.1.4) (1.19.5)\n",
            "Requirement already satisfied: tqdm>=4.41.0 in /usr/local/lib/python3.7/dist-packages (from pytorch_lightning==1.1.4) (4.41.1)\n",
            "Requirement already satisfied: torch>=1.3 in /usr/local/lib/python3.7/dist-packages (from pytorch_lightning==1.1.4) (1.7.1+cu110)\n",
            "Requirement already satisfied: tensorboard>=2.2.0 in /usr/local/lib/python3.7/dist-packages (from pytorch_lightning==1.1.4) (2.4.1)\n",
            "Requirement already satisfied: fsspec[http]>=0.8.1 in /usr/local/lib/python3.7/dist-packages (from pytorch_lightning==1.1.4) (2021.4.0)\n",
            "Requirement already satisfied: typing-extensions in /usr/local/lib/python3.7/dist-packages (from torch>=1.3->pytorch_lightning==1.1.4) (3.7.4.3)\n",
            "Requirement already satisfied: google-auth<2,>=1.6.3 in /usr/local/lib/python3.7/dist-packages (from tensorboard>=2.2.0->pytorch_lightning==1.1.4) (1.28.1)\n",
            "Requirement already satisfied: markdown>=2.6.8 in /usr/local/lib/python3.7/dist-packages (from tensorboard>=2.2.0->pytorch_lightning==1.1.4) (3.3.4)\n",
            "Requirement already satisfied: google-auth-oauthlib<0.5,>=0.4.1 in /usr/local/lib/python3.7/dist-packages (from tensorboard>=2.2.0->pytorch_lightning==1.1.4) (0.4.4)\n",
            "Requirement already satisfied: grpcio>=1.24.3 in /usr/local/lib/python3.7/dist-packages (from tensorboard>=2.2.0->pytorch_lightning==1.1.4) (1.32.0)\n",
            "Requirement already satisfied: protobuf>=3.6.0 in /usr/local/lib/python3.7/dist-packages (from tensorboard>=2.2.0->pytorch_lightning==1.1.4) (3.12.4)\n",
            "Requirement already satisfied: wheel>=0.26; python_version >= \"3\" in /usr/local/lib/python3.7/dist-packages (from tensorboard>=2.2.0->pytorch_lightning==1.1.4) (0.36.2)\n",
            "Requirement already satisfied: setuptools>=41.0.0 in /usr/local/lib/python3.7/dist-packages (from tensorboard>=2.2.0->pytorch_lightning==1.1.4) (54.2.0)\n",
            "Requirement already satisfied: requests<3,>=2.21.0 in /usr/local/lib/python3.7/dist-packages (from tensorboard>=2.2.0->pytorch_lightning==1.1.4) (2.23.0)\n",
            "Requirement already satisfied: tensorboard-plugin-wit>=1.6.0 in /usr/local/lib/python3.7/dist-packages (from tensorboard>=2.2.0->pytorch_lightning==1.1.4) (1.8.0)\n",
            "Requirement already satisfied: absl-py>=0.4 in /usr/local/lib/python3.7/dist-packages (from tensorboard>=2.2.0->pytorch_lightning==1.1.4) (0.12.0)\n",
            "Requirement already satisfied: six>=1.10.0 in /usr/local/lib/python3.7/dist-packages (from tensorboard>=2.2.0->pytorch_lightning==1.1.4) (1.15.0)\n",
            "Requirement already satisfied: werkzeug>=0.11.15 in /usr/local/lib/python3.7/dist-packages (from tensorboard>=2.2.0->pytorch_lightning==1.1.4) (1.0.1)\n",
            "Requirement already satisfied: aiohttp; extra == \"http\" in /usr/local/lib/python3.7/dist-packages (from fsspec[http]>=0.8.1->pytorch_lightning==1.1.4) (3.7.4.post0)\n",
            "Requirement already satisfied: cachetools<5.0,>=2.0.0 in /usr/local/lib/python3.7/dist-packages (from google-auth<2,>=1.6.3->tensorboard>=2.2.0->pytorch_lightning==1.1.4) (4.2.1)\n",
            "Requirement already satisfied: rsa<5,>=3.1.4; python_version >= \"3.6\" in /usr/local/lib/python3.7/dist-packages (from google-auth<2,>=1.6.3->tensorboard>=2.2.0->pytorch_lightning==1.1.4) (4.7.2)\n",
            "Requirement already satisfied: pyasn1-modules>=0.2.1 in /usr/local/lib/python3.7/dist-packages (from google-auth<2,>=1.6.3->tensorboard>=2.2.0->pytorch_lightning==1.1.4) (0.2.8)\n",
            "Requirement already satisfied: importlib-metadata; python_version < \"3.8\" in /usr/local/lib/python3.7/dist-packages (from markdown>=2.6.8->tensorboard>=2.2.0->pytorch_lightning==1.1.4) (3.10.1)\n",
            "Requirement already satisfied: requests-oauthlib>=0.7.0 in /usr/local/lib/python3.7/dist-packages (from google-auth-oauthlib<0.5,>=0.4.1->tensorboard>=2.2.0->pytorch_lightning==1.1.4) (1.3.0)\n",
            "Requirement already satisfied: certifi>=2017.4.17 in /usr/local/lib/python3.7/dist-packages (from requests<3,>=2.21.0->tensorboard>=2.2.0->pytorch_lightning==1.1.4) (2020.12.5)\n",
            "Requirement already satisfied: chardet<4,>=3.0.2 in /usr/local/lib/python3.7/dist-packages (from requests<3,>=2.21.0->tensorboard>=2.2.0->pytorch_lightning==1.1.4) (3.0.4)\n",
            "Requirement already satisfied: idna<3,>=2.5 in /usr/local/lib/python3.7/dist-packages (from requests<3,>=2.21.0->tensorboard>=2.2.0->pytorch_lightning==1.1.4) (2.10)\n",
            "Requirement already satisfied: urllib3!=1.25.0,!=1.25.1,<1.26,>=1.21.1 in /usr/local/lib/python3.7/dist-packages (from requests<3,>=2.21.0->tensorboard>=2.2.0->pytorch_lightning==1.1.4) (1.24.3)\n",
            "Requirement already satisfied: multidict<7.0,>=4.5 in /usr/local/lib/python3.7/dist-packages (from aiohttp; extra == \"http\"->fsspec[http]>=0.8.1->pytorch_lightning==1.1.4) (5.1.0)\n",
            "Requirement already satisfied: attrs>=17.3.0 in /usr/local/lib/python3.7/dist-packages (from aiohttp; extra == \"http\"->fsspec[http]>=0.8.1->pytorch_lightning==1.1.4) (20.3.0)\n",
            "Requirement already satisfied: async-timeout<4.0,>=3.0 in /usr/local/lib/python3.7/dist-packages (from aiohttp; extra == \"http\"->fsspec[http]>=0.8.1->pytorch_lightning==1.1.4) (3.0.1)\n",
            "Requirement already satisfied: yarl<2.0,>=1.0 in /usr/local/lib/python3.7/dist-packages (from aiohttp; extra == \"http\"->fsspec[http]>=0.8.1->pytorch_lightning==1.1.4) (1.6.3)\n",
            "Requirement already satisfied: pyasn1>=0.1.3 in /usr/local/lib/python3.7/dist-packages (from rsa<5,>=3.1.4; python_version >= \"3.6\"->google-auth<2,>=1.6.3->tensorboard>=2.2.0->pytorch_lightning==1.1.4) (0.4.8)\n",
            "Requirement already satisfied: zipp>=0.5 in /usr/local/lib/python3.7/dist-packages (from importlib-metadata; python_version < \"3.8\"->markdown>=2.6.8->tensorboard>=2.2.0->pytorch_lightning==1.1.4) (3.4.1)\n",
            "Requirement already satisfied: oauthlib>=3.0.0 in /usr/local/lib/python3.7/dist-packages (from requests-oauthlib>=0.7.0->google-auth-oauthlib<0.5,>=0.4.1->tensorboard>=2.2.0->pytorch_lightning==1.1.4) (3.1.0)\n"
          ],
          "name": "stdout"
        }
      ]
    },
    {
      "cell_type": "code",
      "metadata": {
        "id": "GcRrLL5SIqi4"
      },
      "source": [
        "import sys\n",
        "sys.path.append('/content/FSDL-2021-futureskill/lab9')"
      ],
      "execution_count": 2,
      "outputs": []
    },
    {
      "cell_type": "code",
      "metadata": {
        "colab": {
          "base_uri": "https://localhost:8080/"
        },
        "id": "NqpyE2jEyvYj",
        "outputId": "0a632a88-d4a0-42b0-8897-18da4d6aa06e"
      },
      "source": [
        "%cd FSDL-2021-futureskill/lab9/"
      ],
      "execution_count": 4,
      "outputs": [
        {
          "output_type": "stream",
          "text": [
            "/content/FSDL-2021-futureskill/lab9\n"
          ],
          "name": "stdout"
        }
      ]
    },
    {
      "cell_type": "code",
      "metadata": {
        "id": "Ud3sf_UFLl93",
        "colab": {
          "base_uri": "https://localhost:8080/"
        },
        "outputId": "a0764f2b-3701-4bb0-c7a7-1605ebae5157"
      },
      "source": [
        "!python3 training/run_experiment.py --max_epochs=1 --gpus=1 --data_class=EMNISTLines2 --model_class=LineCNNTransformer --num_workers=4 --loss=transformer"
      ],
      "execution_count": 6,
      "outputs": [
        {
          "output_type": "stream",
          "text": [
            "/usr/local/lib/python3.7/dist-packages/pytorch_lightning/utilities/distributed.py:49: UserWarning: You have set progress_bar_refresh_rate < 20 on Google Colab. This may crash. Consider using progress_bar_refresh_rate >= 20 in Trainer.\n",
            "  warnings.warn(*args, **kwargs)\n",
            "GPU available: True, used: True\n",
            "TPU available: None, using: 0 TPU cores\n",
            "LOCAL_RANK: 0 - CUDA_VISIBLE_DEVICES: [0]\n",
            "EMNISTLines2 loading data from HDF5...\n",
            "2021-04-18 06:33:24.092734: I tensorflow/stream_executor/platform/default/dso_loader.cc:49] Successfully opened dynamic library libcudart.so.11.0\n",
            "\n",
            "    | Name                                                       | Type                    | Params\n",
            "---------------------------------------------------------------------------------------------------------\n",
            "0   | model                                                      | LineCNNTransformer      | 4.3 M \n",
            "1   | model.line_cnn                                             | LineCNN                 | 1.6 M \n",
            "2   | model.line_cnn.convs                                       | Sequential              | 1.2 M \n",
            "3   | model.line_cnn.convs.0                                     | ConvBlock               | 320   \n",
            "4   | model.line_cnn.convs.0.conv                                | Conv2d                  | 320   \n",
            "5   | model.line_cnn.convs.0.relu                                | ReLU                    | 0     \n",
            "6   | model.line_cnn.convs.1                                     | ConvBlock               | 9.2 K \n",
            "7   | model.line_cnn.convs.1.conv                                | Conv2d                  | 9.2 K \n",
            "8   | model.line_cnn.convs.1.relu                                | ReLU                    | 0     \n",
            "9   | model.line_cnn.convs.2                                     | ConvBlock               | 9.2 K \n",
            "10  | model.line_cnn.convs.2.conv                                | Conv2d                  | 9.2 K \n",
            "11  | model.line_cnn.convs.2.relu                                | ReLU                    | 0     \n",
            "12  | model.line_cnn.convs.3                                     | ConvBlock               | 9.2 K \n",
            "13  | model.line_cnn.convs.3.conv                                | Conv2d                  | 9.2 K \n",
            "14  | model.line_cnn.convs.3.relu                                | ReLU                    | 0     \n",
            "15  | model.line_cnn.convs.4                                     | ConvBlock               | 18.5 K\n",
            "16  | model.line_cnn.convs.4.conv                                | Conv2d                  | 18.5 K\n",
            "17  | model.line_cnn.convs.4.relu                                | ReLU                    | 0     \n",
            "18  | model.line_cnn.convs.5                                     | ConvBlock               | 36.9 K\n",
            "19  | model.line_cnn.convs.5.conv                                | Conv2d                  | 36.9 K\n",
            "20  | model.line_cnn.convs.5.relu                                | ReLU                    | 0     \n",
            "21  | model.line_cnn.convs.6                                     | ConvBlock               | 73.9 K\n",
            "22  | model.line_cnn.convs.6.conv                                | Conv2d                  | 73.9 K\n",
            "23  | model.line_cnn.convs.6.relu                                | ReLU                    | 0     \n",
            "24  | model.line_cnn.convs.7                                     | ConvBlock               | 147 K \n",
            "25  | model.line_cnn.convs.7.conv                                | Conv2d                  | 147 K \n",
            "26  | model.line_cnn.convs.7.relu                                | ReLU                    | 0     \n",
            "27  | model.line_cnn.convs.8                                     | ConvBlock               | 918 K \n",
            "28  | model.line_cnn.convs.8.conv                                | Conv2d                  | 918 K \n",
            "29  | model.line_cnn.convs.8.relu                                | ReLU                    | 0     \n",
            "30  | model.line_cnn.fc1                                         | Linear                  | 262 K \n",
            "31  | model.line_cnn.dropout                                     | Dropout                 | 0     \n",
            "32  | model.line_cnn.fc2                                         | Linear                  | 131 K \n",
            "33  | model.embedding                                            | Embedding               | 21.2 K\n",
            "34  | model.fc                                                   | Linear                  | 21.3 K\n",
            "35  | model.pos_encoder                                          | PositionalEncoding      | 0     \n",
            "36  | model.pos_encoder.dropout                                  | Dropout                 | 0     \n",
            "37  | model.transformer_decoder                                  | TransformerDecoder      | 2.6 M \n",
            "38  | model.transformer_decoder.layers                           | ModuleList              | 2.6 M \n",
            "39  | model.transformer_decoder.layers.0                         | TransformerDecoderLayer | 659 K \n",
            "40  | model.transformer_decoder.layers.0.self_attn               | MultiheadAttention      | 263 K \n",
            "41  | model.transformer_decoder.layers.0.self_attn.out_proj      | _LinearWithBias         | 65.8 K\n",
            "42  | model.transformer_decoder.layers.0.multihead_attn          | MultiheadAttention      | 263 K \n",
            "43  | model.transformer_decoder.layers.0.multihead_attn.out_proj | _LinearWithBias         | 65.8 K\n",
            "44  | model.transformer_decoder.layers.0.linear1                 | Linear                  | 65.8 K\n",
            "45  | model.transformer_decoder.layers.0.dropout                 | Dropout                 | 0     \n",
            "46  | model.transformer_decoder.layers.0.linear2                 | Linear                  | 65.8 K\n",
            "47  | model.transformer_decoder.layers.0.norm1                   | LayerNorm               | 512   \n",
            "48  | model.transformer_decoder.layers.0.norm2                   | LayerNorm               | 512   \n",
            "49  | model.transformer_decoder.layers.0.norm3                   | LayerNorm               | 512   \n",
            "50  | model.transformer_decoder.layers.0.dropout1                | Dropout                 | 0     \n",
            "51  | model.transformer_decoder.layers.0.dropout2                | Dropout                 | 0     \n",
            "52  | model.transformer_decoder.layers.0.dropout3                | Dropout                 | 0     \n",
            "53  | model.transformer_decoder.layers.1                         | TransformerDecoderLayer | 659 K \n",
            "54  | model.transformer_decoder.layers.1.self_attn               | MultiheadAttention      | 263 K \n",
            "55  | model.transformer_decoder.layers.1.self_attn.out_proj      | _LinearWithBias         | 65.8 K\n",
            "56  | model.transformer_decoder.layers.1.multihead_attn          | MultiheadAttention      | 263 K \n",
            "57  | model.transformer_decoder.layers.1.multihead_attn.out_proj | _LinearWithBias         | 65.8 K\n",
            "58  | model.transformer_decoder.layers.1.linear1                 | Linear                  | 65.8 K\n",
            "59  | model.transformer_decoder.layers.1.dropout                 | Dropout                 | 0     \n",
            "60  | model.transformer_decoder.layers.1.linear2                 | Linear                  | 65.8 K\n",
            "61  | model.transformer_decoder.layers.1.norm1                   | LayerNorm               | 512   \n",
            "62  | model.transformer_decoder.layers.1.norm2                   | LayerNorm               | 512   \n",
            "63  | model.transformer_decoder.layers.1.norm3                   | LayerNorm               | 512   \n",
            "64  | model.transformer_decoder.layers.1.dropout1                | Dropout                 | 0     \n",
            "65  | model.transformer_decoder.layers.1.dropout2                | Dropout                 | 0     \n",
            "66  | model.transformer_decoder.layers.1.dropout3                | Dropout                 | 0     \n",
            "67  | model.transformer_decoder.layers.2                         | TransformerDecoderLayer | 659 K \n",
            "68  | model.transformer_decoder.layers.2.self_attn               | MultiheadAttention      | 263 K \n",
            "69  | model.transformer_decoder.layers.2.self_attn.out_proj      | _LinearWithBias         | 65.8 K\n",
            "70  | model.transformer_decoder.layers.2.multihead_attn          | MultiheadAttention      | 263 K \n",
            "71  | model.transformer_decoder.layers.2.multihead_attn.out_proj | _LinearWithBias         | 65.8 K\n",
            "72  | model.transformer_decoder.layers.2.linear1                 | Linear                  | 65.8 K\n",
            "73  | model.transformer_decoder.layers.2.dropout                 | Dropout                 | 0     \n",
            "74  | model.transformer_decoder.layers.2.linear2                 | Linear                  | 65.8 K\n",
            "75  | model.transformer_decoder.layers.2.norm1                   | LayerNorm               | 512   \n",
            "76  | model.transformer_decoder.layers.2.norm2                   | LayerNorm               | 512   \n",
            "77  | model.transformer_decoder.layers.2.norm3                   | LayerNorm               | 512   \n",
            "78  | model.transformer_decoder.layers.2.dropout1                | Dropout                 | 0     \n",
            "79  | model.transformer_decoder.layers.2.dropout2                | Dropout                 | 0     \n",
            "80  | model.transformer_decoder.layers.2.dropout3                | Dropout                 | 0     \n",
            "81  | model.transformer_decoder.layers.3                         | TransformerDecoderLayer | 659 K \n",
            "82  | model.transformer_decoder.layers.3.self_attn               | MultiheadAttention      | 263 K \n",
            "83  | model.transformer_decoder.layers.3.self_attn.out_proj      | _LinearWithBias         | 65.8 K\n",
            "84  | model.transformer_decoder.layers.3.multihead_attn          | MultiheadAttention      | 263 K \n",
            "85  | model.transformer_decoder.layers.3.multihead_attn.out_proj | _LinearWithBias         | 65.8 K\n",
            "86  | model.transformer_decoder.layers.3.linear1                 | Linear                  | 65.8 K\n",
            "87  | model.transformer_decoder.layers.3.dropout                 | Dropout                 | 0     \n",
            "88  | model.transformer_decoder.layers.3.linear2                 | Linear                  | 65.8 K\n",
            "89  | model.transformer_decoder.layers.3.norm1                   | LayerNorm               | 512   \n",
            "90  | model.transformer_decoder.layers.3.norm2                   | LayerNorm               | 512   \n",
            "91  | model.transformer_decoder.layers.3.norm3                   | LayerNorm               | 512   \n",
            "92  | model.transformer_decoder.layers.3.dropout1                | Dropout                 | 0     \n",
            "93  | model.transformer_decoder.layers.3.dropout2                | Dropout                 | 0     \n",
            "94  | model.transformer_decoder.layers.3.dropout3                | Dropout                 | 0     \n",
            "95  | train_acc                                                  | Accuracy                | 0     \n",
            "96  | val_acc                                                    | Accuracy                | 0     \n",
            "97  | test_acc                                                   | Accuracy                | 0     \n",
            "98  | loss_fn                                                    | CrossEntropyLoss        | 0     \n",
            "99  | val_cer                                                    | CharacterErrorRate      | 0     \n",
            "100 | test_cer                                                   | CharacterErrorRate      | 0     \n",
            "---------------------------------------------------------------------------------------------------------\n",
            "4.3 M     Trainable params\n",
            "0         Non-trainable params\n",
            "4.3 M     Total params\n",
            "Epoch 0:  83% 79/95 [01:55<00:23,  1.46s/it, loss=2.89, v_num=2, val_loss=4.8, val_cer=0.998]\n",
            "Validating: 0it [00:00, ?it/s]\u001b[A\n",
            "Epoch 0:  85% 81/95 [01:59<00:20,  1.48s/it, loss=2.89, v_num=2, val_loss=4.8, val_cer=0.998]\n",
            "Validating:  12% 2/16 [00:06<00:50,  3.59s/it]\u001b[A\n",
            "Epoch 0:  87% 83/95 [02:05<00:18,  1.51s/it, loss=2.89, v_num=2, val_loss=4.8, val_cer=0.998]\n",
            "Validating:  25% 4/16 [00:12<00:37,  3.16s/it]\u001b[A\n",
            "Epoch 0:  89% 85/95 [02:10<00:15,  1.54s/it, loss=2.89, v_num=2, val_loss=4.8, val_cer=0.998]\n",
            "Validating:  38% 6/16 [00:17<00:29,  2.95s/it]\u001b[A\n",
            "Epoch 0:  92% 87/95 [02:16<00:12,  1.56s/it, loss=2.89, v_num=2, val_loss=4.8, val_cer=0.998]\n",
            "Validating:  50% 8/16 [00:23<00:22,  2.85s/it]\u001b[A\n",
            "Epoch 0:  94% 89/95 [02:21<00:09,  1.59s/it, loss=2.89, v_num=2, val_loss=4.8, val_cer=0.998]\n",
            "Validating:  62% 10/16 [00:28<00:16,  2.80s/it]\u001b[A\n",
            "Epoch 0:  96% 91/95 [02:27<00:06,  1.62s/it, loss=2.89, v_num=2, val_loss=4.8, val_cer=0.998]\n",
            "Validating:  75% 12/16 [00:34<00:11,  2.76s/it]\u001b[A\n",
            "Epoch 0:  98% 93/95 [02:32<00:03,  1.64s/it, loss=2.89, v_num=2, val_loss=4.8, val_cer=0.998]\n",
            "Validating:  88% 14/16 [00:39<00:05,  2.74s/it]\u001b[A\n",
            "Epoch 0: 100% 95/95 [02:37<00:00,  1.66s/it, loss=2.89, v_num=2, val_loss=4.8, val_cer=0.998]\n",
            "Epoch 0: 100% 95/95 [02:40<00:00,  1.69s/it, loss=2.89, v_num=2, val_loss=2.64, val_cer=0.93]\n",
            "Epoch 0: 100% 95/95 [02:40<00:00,  1.69s/it, loss=2.89, v_num=2, val_loss=2.64, val_cer=0.93]\n",
            "EMNISTLines2 loading data from HDF5...\n",
            "Testing: 100% 16/16 [00:40<00:00,  2.50s/it]\n",
            "--------------------------------------------------------------------------------\n",
            "DATALOADER:0 TEST RESULTS\n",
            "{'test_cer': tensor(0.9272, device='cuda:0')}\n",
            "--------------------------------------------------------------------------------\n",
            "Best model saved at: training/logs/default/version_2/checkpoints/epoch=000-val_loss=2.637-val_cer=0.930.ckpt\n"
          ],
          "name": "stdout"
        }
      ]
    },
    {
      "cell_type": "code",
      "metadata": {
        "colab": {
          "base_uri": "https://localhost:8080/"
        },
        "id": "kwfWsc1RKkCJ",
        "outputId": "8030490d-f295-41ee-de02-17225bd305e0"
      },
      "source": [
        "!wandb init"
      ],
      "execution_count": 8,
      "outputs": [
        {
          "output_type": "stream",
          "text": [
            "\u001b[1mThis directory has been configured previously, should we re-configure it?\u001b[0m [y/N]: y\n",
            "\u001b[?1l\u001b[6n\u001b[?2004h\u001b[?1000h\u001b[?1015h\u001b[?1006h\u001b[?25l\u001b[0m\u001b[?7l\u001b[0m\u001b[J\u001b[0;38;5;67m?\u001b[0;1m Which project should we use? \u001b[0m (Use arrow keys)\u001b[0m\n",
            "\u001b[0;38;5;214;1m ❯ \u001b[0mtesting\u001b[0m\n",
            "\u001b[0m \u001b[0m \u001b[0m \u001b[0mf\u001b[0ms\u001b[0md\u001b[0ml\u001b[0m-\u001b[0mt\u001b[0me\u001b[0mx\u001b[0mt\u001b[0m-\u001b[0mr\u001b[0me\u001b[0mc\u001b[0mo\u001b[0mg\u001b[0mn\u001b[0mi\u001b[0mz\u001b[0me\u001b[0mr\u001b[0m-\u001b[0m2\u001b[0m0\u001b[0m2\u001b[0m1\u001b[0m-\u001b[0ml\u001b[0ma\u001b[0mb\u001b[0ms\u001b[0m-\u001b[0ml\u001b[0ma\u001b[0mb\u001b[0m5\u001b[0m_\u001b[0mt\u001b[0mr\u001b[0ma\u001b[0mi\u001b[0mn\u001b[0mi\u001b[0mn\u001b[0mg\u001b[0m_\u001b[0mt\u001b[0mr\u001b[0ma\u001b[0mi\u001b[0mn\u001b[0mi\u001b[0mn\u001b[0mg\u001b[0m\n",
            "\u001b[0m \u001b[0m \u001b[0m \u001b[0mf\u001b[0ms\u001b[0md\u001b[0ml\u001b[0m-\u001b[0mt\u001b[0me\u001b[0mx\u001b[0mt\u001b[0m-\u001b[0mr\u001b[0me\u001b[0mc\u001b[0mo\u001b[0mg\u001b[0mn\u001b[0mi\u001b[0mz\u001b[0me\u001b[0mr\u001b[0m-\u001b[0m2\u001b[0m0\u001b[0m2\u001b[0m1\u001b[0m-\u001b[0ml\u001b[0ma\u001b[0mb\u001b[0ms\u001b[0m-\u001b[0ml\u001b[0ma\u001b[0mb\u001b[0m5\u001b[0m_\u001b[0mt\u001b[0mr\u001b[0ma\u001b[0mi\u001b[0mn\u001b[0mi\u001b[0mn\u001b[0mg\u001b[0m\n",
            "\u001b[0m \u001b[0m \u001b[0m \u001b[0mt\u001b[0me\u001b[0mx\u001b[0mt\u001b[0m_\u001b[0mr\u001b[0me\u001b[0mc\u001b[0mo\u001b[0mg\u001b[0mn\u001b[0mi\u001b[0mz\u001b[0me\u001b[0mr\u001b[0m\n",
            "\u001b[0m \u001b[0m \u001b[0m \u001b[0mC\u001b[0mr\u001b[0me\u001b[0ma\u001b[0mt\u001b[0me\u001b[0m \u001b[0mN\u001b[0me\u001b[0mw\u001b[13D\u001b[5A\u001b[?7h\u001b[0m\u001b[?25l\u001b[?7l\u001b[0m\u001b[J\u001b[0;38;5;67m?\u001b[0;1m Which project should we use? \u001b[0;38;5;214;1m testing\u001b[39D\u001b[0m\n",
            "\u001b[J\u001b[?7h\u001b[0m\u001b[?12l\u001b[?25h\u001b[?1000l\u001b[?1015l\u001b[?1006l\u001b[?2004l\u001b[32mThis directory is configured!  Next, track a run:\n",
            "\u001b[0m* In your training script:\n",
            "    \u001b[1mimport wandb\u001b[0m\n",
            "    \u001b[1mwandb.init(project=\"testing\")\u001b[0m\n",
            "* then `\u001b[1mpython <train.py>\u001b[0m`.\n",
            "\n"
          ],
          "name": "stdout"
        }
      ]
    },
    {
      "cell_type": "code",
      "metadata": {
        "colab": {
          "base_uri": "https://localhost:8080/"
        },
        "id": "ey8Nneismrdv",
        "outputId": "f1bd8c04-4ab2-4bc4-fa56-8f7593b1de47"
      },
      "source": [
        "!python3 text_recognizer/data/iam_paragraphs.py"
      ],
      "execution_count": 9,
      "outputs": [
        {
          "output_type": "stream",
          "text": [
            "IAMParagraphs.setup(None): Loading IAM paragraph regions and lines...\n",
            "IAM Paragraphs Dataset\n",
            "Num classes: 84\n",
            "Input dims : (1, 576, 640)\n",
            "Output dims: (682, 1)\n",
            "Train/val/test sizes: 1046, 262, 231\n",
            "Train Batch x stats: (torch.Size([128, 1, 576, 640]), torch.float32, tensor(0.), tensor(0.0333), tensor(0.0951), tensor(1.))\n",
            "Train Batch y stats: (torch.Size([128, 682]), torch.int64, tensor(1), tensor(83))\n",
            "Test Batch x stats: (torch.Size([128, 1, 576, 640]), torch.float32, tensor(0.), tensor(0.0284), tensor(0.0846), tensor(0.9373))\n",
            "Test Batch y stats: (torch.Size([128, 682]), torch.int64, tensor(1), tensor(83))\n",
            "\n"
          ],
          "name": "stdout"
        }
      ]
    },
    {
      "cell_type": "code",
      "metadata": {
        "colab": {
          "base_uri": "https://localhost:8080/"
        },
        "id": "GT4jzthfhBYM",
        "outputId": "69e3f125-a4d0-4f6e-949e-56b5c617dad5"
      },
      "source": [
        "!python3 text_recognizer/data/iam_original_and_synthetic_paragraphs.py"
      ],
      "execution_count": 32,
      "outputs": [
        {
          "output_type": "stream",
          "text": [
            "IAMParagraphs.setup(None): Loading IAM paragraph regions and lines...\n",
            "IAMSyntheticParagraphs.setup(None): Loading trainval IAM paragraph regions and lines...\n",
            "11396 samples with 1 lines\n",
            "1519 samples with 2 lines\n",
            "1556 samples with 3 lines\n",
            "1478 samples with 4 lines\n",
            "577 samples with 5 lines\n",
            "570 samples with 6 lines\n",
            "571 samples with 7 lines\n",
            "608 samples with 8 lines\n",
            "600 samples with 9 lines\n",
            "IAM Original and Synthetic Paragraphs Dataset\n",
            "Num classes: 84\n",
            "Dims: (1, 576, 640)\n",
            "Output dims: (682, 1)\n",
            "Train/val/test sizes: 19921, 262, 231\n",
            "Train Batch x stats: (torch.Size([128, 1, 576, 640]), torch.float32, tensor(0.), tensor(0.0100), tensor(0.0575), tensor(1.))\n",
            "Train Batch y stats: (torch.Size([128, 682]), torch.int64, tensor(1), tensor(83))\n",
            "Test Batch x stats: (torch.Size([128, 1, 576, 640]), torch.float32, tensor(0.), tensor(0.0284), tensor(0.0846), tensor(0.9373))\n",
            "Test Batch y stats: (torch.Size([128, 682]), torch.int64, tensor(1), tensor(83))\n",
            "\n"
          ],
          "name": "stdout"
        }
      ]
    },
    {
      "cell_type": "code",
      "metadata": {
        "colab": {
          "base_uri": "https://localhost:8080/"
        },
        "id": "IUvBaoiULzeM",
        "outputId": "2d743eae-4d8c-4eee-d964-bb194df6bbb9"
      },
      "source": [
        "!python3 training/run_experiment.py --gpus=1 --data_class=IAMOriginalAndSyntheticParagraphs --model_class=ResnetTransformer --loss=transformer --batch_size=16 --check_val_every_n_epoch=10 --terminate_on_nan=1 --num_workers=24 --lr=0.0001 --accumulate_grad_batches=4\n"
      ],
      "execution_count": 12,
      "outputs": [
        {
          "output_type": "stream",
          "text": [
            "/usr/local/lib/python3.7/dist-packages/pytorch_lightning/utilities/distributed.py:49: UserWarning: You have set progress_bar_refresh_rate < 20 on Google Colab. This may crash. Consider using progress_bar_refresh_rate >= 20 in Trainer.\n",
            "  warnings.warn(*args, **kwargs)\n",
            "GPU available: True, used: True\n",
            "TPU available: None, using: 0 TPU cores\n",
            "LOCAL_RANK: 0 - CUDA_VISIBLE_DEVICES: [0]\n",
            "IAMParagraphs.setup(fit): Loading IAM paragraph regions and lines...\n",
            "IAMSyntheticParagraphs.setup(fit): Loading trainval IAM paragraph regions and lines...\n",
            "11397 samples with 1 lines\n",
            "1507 samples with 2 lines\n",
            "1541 samples with 3 lines\n",
            "1531 samples with 4 lines\n",
            "571 samples with 5 lines\n",
            "577 samples with 6 lines\n",
            "575 samples with 7 lines\n",
            "594 samples with 8 lines\n",
            "592 samples with 9 lines\n",
            "IAMParagraphs.setup(test): Loading IAM paragraph regions and lines...\n",
            "2021-04-18 06:53:54.699066: I tensorflow/stream_executor/platform/default/dso_loader.cc:49] Successfully opened dynamic library libcudart.so.11.0\n",
            "\n",
            "    | Name                                                       | Type                    | Params\n",
            "---------------------------------------------------------------------------------------------------------\n",
            "0   | model                                                      | ResnetTransformer       | 14.0 M\n",
            "1   | model.resnet                                               | Sequential              | 11.2 M\n",
            "2   | model.resnet.0                                             | Conv2d                  | 9.4 K \n",
            "3   | model.resnet.1                                             | BatchNorm2d             | 128   \n",
            "4   | model.resnet.2                                             | ReLU                    | 0     \n",
            "5   | model.resnet.3                                             | MaxPool2d               | 0     \n",
            "6   | model.resnet.4                                             | Sequential              | 147 K \n",
            "7   | model.resnet.4.0                                           | BasicBlock              | 74.0 K\n",
            "8   | model.resnet.4.0.conv1                                     | Conv2d                  | 36.9 K\n",
            "9   | model.resnet.4.0.bn1                                       | BatchNorm2d             | 128   \n",
            "10  | model.resnet.4.0.relu                                      | ReLU                    | 0     \n",
            "11  | model.resnet.4.0.conv2                                     | Conv2d                  | 36.9 K\n",
            "12  | model.resnet.4.0.bn2                                       | BatchNorm2d             | 128   \n",
            "13  | model.resnet.4.1                                           | BasicBlock              | 74.0 K\n",
            "14  | model.resnet.4.1.conv1                                     | Conv2d                  | 36.9 K\n",
            "15  | model.resnet.4.1.bn1                                       | BatchNorm2d             | 128   \n",
            "16  | model.resnet.4.1.relu                                      | ReLU                    | 0     \n",
            "17  | model.resnet.4.1.conv2                                     | Conv2d                  | 36.9 K\n",
            "18  | model.resnet.4.1.bn2                                       | BatchNorm2d             | 128   \n",
            "19  | model.resnet.5                                             | Sequential              | 525 K \n",
            "20  | model.resnet.5.0                                           | BasicBlock              | 230 K \n",
            "21  | model.resnet.5.0.conv1                                     | Conv2d                  | 73.7 K\n",
            "22  | model.resnet.5.0.bn1                                       | BatchNorm2d             | 256   \n",
            "23  | model.resnet.5.0.relu                                      | ReLU                    | 0     \n",
            "24  | model.resnet.5.0.conv2                                     | Conv2d                  | 147 K \n",
            "25  | model.resnet.5.0.bn2                                       | BatchNorm2d             | 256   \n",
            "26  | model.resnet.5.0.downsample                                | Sequential              | 8.4 K \n",
            "27  | model.resnet.5.0.downsample.0                              | Conv2d                  | 8.2 K \n",
            "28  | model.resnet.5.0.downsample.1                              | BatchNorm2d             | 256   \n",
            "29  | model.resnet.5.1                                           | BasicBlock              | 295 K \n",
            "30  | model.resnet.5.1.conv1                                     | Conv2d                  | 147 K \n",
            "31  | model.resnet.5.1.bn1                                       | BatchNorm2d             | 256   \n",
            "32  | model.resnet.5.1.relu                                      | ReLU                    | 0     \n",
            "33  | model.resnet.5.1.conv2                                     | Conv2d                  | 147 K \n",
            "34  | model.resnet.5.1.bn2                                       | BatchNorm2d             | 256   \n",
            "35  | model.resnet.6                                             | Sequential              | 2.1 M \n",
            "36  | model.resnet.6.0                                           | BasicBlock              | 919 K \n",
            "37  | model.resnet.6.0.conv1                                     | Conv2d                  | 294 K \n",
            "38  | model.resnet.6.0.bn1                                       | BatchNorm2d             | 512   \n",
            "39  | model.resnet.6.0.relu                                      | ReLU                    | 0     \n",
            "40  | model.resnet.6.0.conv2                                     | Conv2d                  | 589 K \n",
            "41  | model.resnet.6.0.bn2                                       | BatchNorm2d             | 512   \n",
            "42  | model.resnet.6.0.downsample                                | Sequential              | 33.3 K\n",
            "43  | model.resnet.6.0.downsample.0                              | Conv2d                  | 32.8 K\n",
            "44  | model.resnet.6.0.downsample.1                              | BatchNorm2d             | 512   \n",
            "45  | model.resnet.6.1                                           | BasicBlock              | 1.2 M \n",
            "46  | model.resnet.6.1.conv1                                     | Conv2d                  | 589 K \n",
            "47  | model.resnet.6.1.bn1                                       | BatchNorm2d             | 512   \n",
            "48  | model.resnet.6.1.relu                                      | ReLU                    | 0     \n",
            "49  | model.resnet.6.1.conv2                                     | Conv2d                  | 589 K \n",
            "50  | model.resnet.6.1.bn2                                       | BatchNorm2d             | 512   \n",
            "51  | model.resnet.7                                             | Sequential              | 8.4 M \n",
            "52  | model.resnet.7.0                                           | BasicBlock              | 3.7 M \n",
            "53  | model.resnet.7.0.conv1                                     | Conv2d                  | 1.2 M \n",
            "54  | model.resnet.7.0.bn1                                       | BatchNorm2d             | 1.0 K \n",
            "55  | model.resnet.7.0.relu                                      | ReLU                    | 0     \n",
            "56  | model.resnet.7.0.conv2                                     | Conv2d                  | 2.4 M \n",
            "57  | model.resnet.7.0.bn2                                       | BatchNorm2d             | 1.0 K \n",
            "58  | model.resnet.7.0.downsample                                | Sequential              | 132 K \n",
            "59  | model.resnet.7.0.downsample.0                              | Conv2d                  | 131 K \n",
            "60  | model.resnet.7.0.downsample.1                              | BatchNorm2d             | 1.0 K \n",
            "61  | model.resnet.7.1                                           | BasicBlock              | 4.7 M \n",
            "62  | model.resnet.7.1.conv1                                     | Conv2d                  | 2.4 M \n",
            "63  | model.resnet.7.1.bn1                                       | BatchNorm2d             | 1.0 K \n",
            "64  | model.resnet.7.1.relu                                      | ReLU                    | 0     \n",
            "65  | model.resnet.7.1.conv2                                     | Conv2d                  | 2.4 M \n",
            "66  | model.resnet.7.1.bn2                                       | BatchNorm2d             | 1.0 K \n",
            "67  | model.encoder_projection                                   | Conv2d                  | 131 K \n",
            "68  | model.enc_pos_encoder                                      | PositionalEncodingImage | 0     \n",
            "69  | model.embedding                                            | Embedding               | 21.5 K\n",
            "70  | model.fc                                                   | Linear                  | 21.6 K\n",
            "71  | model.dec_pos_encoder                                      | PositionalEncoding      | 0     \n",
            "72  | model.dec_pos_encoder.dropout                              | Dropout                 | 0     \n",
            "73  | model.transformer_decoder                                  | TransformerDecoder      | 2.6 M \n",
            "74  | model.transformer_decoder.layers                           | ModuleList              | 2.6 M \n",
            "75  | model.transformer_decoder.layers.0                         | TransformerDecoderLayer | 659 K \n",
            "76  | model.transformer_decoder.layers.0.self_attn               | MultiheadAttention      | 263 K \n",
            "77  | model.transformer_decoder.layers.0.self_attn.out_proj      | _LinearWithBias         | 65.8 K\n",
            "78  | model.transformer_decoder.layers.0.multihead_attn          | MultiheadAttention      | 263 K \n",
            "79  | model.transformer_decoder.layers.0.multihead_attn.out_proj | _LinearWithBias         | 65.8 K\n",
            "80  | model.transformer_decoder.layers.0.linear1                 | Linear                  | 65.8 K\n",
            "81  | model.transformer_decoder.layers.0.dropout                 | Dropout                 | 0     \n",
            "82  | model.transformer_decoder.layers.0.linear2                 | Linear                  | 65.8 K\n",
            "83  | model.transformer_decoder.layers.0.norm1                   | LayerNorm               | 512   \n",
            "84  | model.transformer_decoder.layers.0.norm2                   | LayerNorm               | 512   \n",
            "85  | model.transformer_decoder.layers.0.norm3                   | LayerNorm               | 512   \n",
            "86  | model.transformer_decoder.layers.0.dropout1                | Dropout                 | 0     \n",
            "87  | model.transformer_decoder.layers.0.dropout2                | Dropout                 | 0     \n",
            "88  | model.transformer_decoder.layers.0.dropout3                | Dropout                 | 0     \n",
            "89  | model.transformer_decoder.layers.1                         | TransformerDecoderLayer | 659 K \n",
            "90  | model.transformer_decoder.layers.1.self_attn               | MultiheadAttention      | 263 K \n",
            "91  | model.transformer_decoder.layers.1.self_attn.out_proj      | _LinearWithBias         | 65.8 K\n",
            "92  | model.transformer_decoder.layers.1.multihead_attn          | MultiheadAttention      | 263 K \n",
            "93  | model.transformer_decoder.layers.1.multihead_attn.out_proj | _LinearWithBias         | 65.8 K\n",
            "94  | model.transformer_decoder.layers.1.linear1                 | Linear                  | 65.8 K\n",
            "95  | model.transformer_decoder.layers.1.dropout                 | Dropout                 | 0     \n",
            "96  | model.transformer_decoder.layers.1.linear2                 | Linear                  | 65.8 K\n",
            "97  | model.transformer_decoder.layers.1.norm1                   | LayerNorm               | 512   \n",
            "98  | model.transformer_decoder.layers.1.norm2                   | LayerNorm               | 512   \n",
            "99  | model.transformer_decoder.layers.1.norm3                   | LayerNorm               | 512   \n",
            "100 | model.transformer_decoder.layers.1.dropout1                | Dropout                 | 0     \n",
            "101 | model.transformer_decoder.layers.1.dropout2                | Dropout                 | 0     \n",
            "102 | model.transformer_decoder.layers.1.dropout3                | Dropout                 | 0     \n",
            "103 | model.transformer_decoder.layers.2                         | TransformerDecoderLayer | 659 K \n",
            "104 | model.transformer_decoder.layers.2.self_attn               | MultiheadAttention      | 263 K \n",
            "105 | model.transformer_decoder.layers.2.self_attn.out_proj      | _LinearWithBias         | 65.8 K\n",
            "106 | model.transformer_decoder.layers.2.multihead_attn          | MultiheadAttention      | 263 K \n",
            "107 | model.transformer_decoder.layers.2.multihead_attn.out_proj | _LinearWithBias         | 65.8 K\n",
            "108 | model.transformer_decoder.layers.2.linear1                 | Linear                  | 65.8 K\n",
            "109 | model.transformer_decoder.layers.2.dropout                 | Dropout                 | 0     \n",
            "110 | model.transformer_decoder.layers.2.linear2                 | Linear                  | 65.8 K\n",
            "111 | model.transformer_decoder.layers.2.norm1                   | LayerNorm               | 512   \n",
            "112 | model.transformer_decoder.layers.2.norm2                   | LayerNorm               | 512   \n",
            "113 | model.transformer_decoder.layers.2.norm3                   | LayerNorm               | 512   \n",
            "114 | model.transformer_decoder.layers.2.dropout1                | Dropout                 | 0     \n",
            "115 | model.transformer_decoder.layers.2.dropout2                | Dropout                 | 0     \n",
            "116 | model.transformer_decoder.layers.2.dropout3                | Dropout                 | 0     \n",
            "117 | model.transformer_decoder.layers.3                         | TransformerDecoderLayer | 659 K \n",
            "118 | model.transformer_decoder.layers.3.self_attn               | MultiheadAttention      | 263 K \n",
            "119 | model.transformer_decoder.layers.3.self_attn.out_proj      | _LinearWithBias         | 65.8 K\n",
            "120 | model.transformer_decoder.layers.3.multihead_attn          | MultiheadAttention      | 263 K \n",
            "121 | model.transformer_decoder.layers.3.multihead_attn.out_proj | _LinearWithBias         | 65.8 K\n",
            "122 | model.transformer_decoder.layers.3.linear1                 | Linear                  | 65.8 K\n",
            "123 | model.transformer_decoder.layers.3.dropout                 | Dropout                 | 0     \n",
            "124 | model.transformer_decoder.layers.3.linear2                 | Linear                  | 65.8 K\n",
            "125 | model.transformer_decoder.layers.3.norm1                   | LayerNorm               | 512   \n",
            "126 | model.transformer_decoder.layers.3.norm2                   | LayerNorm               | 512   \n",
            "127 | model.transformer_decoder.layers.3.norm3                   | LayerNorm               | 512   \n",
            "128 | model.transformer_decoder.layers.3.dropout1                | Dropout                 | 0     \n",
            "129 | model.transformer_decoder.layers.3.dropout2                | Dropout                 | 0     \n",
            "130 | model.transformer_decoder.layers.3.dropout3                | Dropout                 | 0     \n",
            "131 | train_acc                                                  | Accuracy                | 0     \n",
            "132 | val_acc                                                    | Accuracy                | 0     \n",
            "133 | test_acc                                                   | Accuracy                | 0     \n",
            "134 | loss_fn                                                    | CrossEntropyLoss        | 0     \n",
            "135 | val_cer                                                    | CharacterErrorRate      | 0     \n",
            "136 | test_cer                                                   | CharacterErrorRate      | 0     \n",
            "---------------------------------------------------------------------------------------------------------\n",
            "14.0 M    Trainable params\n",
            "0         Non-trainable params\n",
            "14.0 M    Total params\n",
            "Epoch 0:   8% 98/1263 [01:00<11:57,  1.62it/s, loss=3.39, v_num=4, val_loss=4.34, val_cer=0.952]/usr/local/lib/python3.7/dist-packages/pytorch_lightning/utilities/distributed.py:49: UserWarning: Detected KeyboardInterrupt, attempting graceful shutdown...\n",
            "  warnings.warn(*args, **kwargs)\n",
            "^C\n"
          ],
          "name": "stdout"
        }
      ]
    },
    {
      "cell_type": "code",
      "metadata": {
        "colab": {
          "base_uri": "https://localhost:8080/"
        },
        "id": "Yb0CDuoBw8TB",
        "outputId": "b88da55c-1846-44d8-ccae-c010d8005efe"
      },
      "source": [
        "!wandb init"
      ],
      "execution_count": 14,
      "outputs": [
        {
          "output_type": "stream",
          "text": [
            "\u001b[1mThis directory has been configured previously, should we re-configure it?\u001b[0m [y/N]: y\n",
            "\u001b[?1l\u001b[6n\u001b[?2004h\u001b[?1000h\u001b[?1015h\u001b[?1006h\u001b[?25l\u001b[0m\u001b[?7l\u001b[0m\u001b[J\u001b[0;38;5;67m?\u001b[0;1m Which project should we use? \u001b[0m (Use arrow keys)\u001b[0m\n",
            "\u001b[0;38;5;214;1m ❯ \u001b[0mtesting\u001b[0m\n",
            "\u001b[0m \u001b[0m \u001b[0m \u001b[0mf\u001b[0ms\u001b[0md\u001b[0ml\u001b[0m-\u001b[0mt\u001b[0me\u001b[0mx\u001b[0mt\u001b[0m-\u001b[0mr\u001b[0me\u001b[0mc\u001b[0mo\u001b[0mg\u001b[0mn\u001b[0mi\u001b[0mz\u001b[0me\u001b[0mr\u001b[0m-\u001b[0m2\u001b[0m0\u001b[0m2\u001b[0m1\u001b[0m-\u001b[0ml\u001b[0ma\u001b[0mb\u001b[0ms\u001b[0m-\u001b[0ml\u001b[0ma\u001b[0mb\u001b[0m5\u001b[0m_\u001b[0mt\u001b[0mr\u001b[0ma\u001b[0mi\u001b[0mn\u001b[0mi\u001b[0mn\u001b[0mg\u001b[0m_\u001b[0mt\u001b[0mr\u001b[0ma\u001b[0mi\u001b[0mn\u001b[0mi\u001b[0mn\u001b[0mg\u001b[0m\n",
            "\u001b[0m \u001b[0m \u001b[0m \u001b[0mf\u001b[0ms\u001b[0md\u001b[0ml\u001b[0m-\u001b[0mt\u001b[0me\u001b[0mx\u001b[0mt\u001b[0m-\u001b[0mr\u001b[0me\u001b[0mc\u001b[0mo\u001b[0mg\u001b[0mn\u001b[0mi\u001b[0mz\u001b[0me\u001b[0mr\u001b[0m-\u001b[0m2\u001b[0m0\u001b[0m2\u001b[0m1\u001b[0m-\u001b[0ml\u001b[0ma\u001b[0mb\u001b[0ms\u001b[0m-\u001b[0ml\u001b[0ma\u001b[0mb\u001b[0m5\u001b[0m_\u001b[0mt\u001b[0mr\u001b[0ma\u001b[0mi\u001b[0mn\u001b[0mi\u001b[0mn\u001b[0mg\u001b[0m\n",
            "\u001b[0m \u001b[0m \u001b[0m \u001b[0mt\u001b[0me\u001b[0mx\u001b[0mt\u001b[0m_\u001b[0mr\u001b[0me\u001b[0mc\u001b[0mo\u001b[0mg\u001b[0mn\u001b[0mi\u001b[0mz\u001b[0me\u001b[0mr\u001b[0m\n",
            "\u001b[0m \u001b[0m \u001b[0m \u001b[0mC\u001b[0mr\u001b[0me\u001b[0ma\u001b[0mt\u001b[0me\u001b[0m \u001b[0mN\u001b[0me\u001b[0mw\u001b[13D\u001b[5A\u001b[?7h\u001b[0m\n",
            "Cancelled by user\n",
            "\n",
            "Enter a name for your new project: 0418Train\n",
            "\u001b[32mThis directory is configured!  Next, track a run:\n",
            "\u001b[0m* In your training script:\n",
            "    \u001b[1mimport wandb\u001b[0m\n",
            "    \u001b[1mwandb.init(project=\"0418train\")\u001b[0m\n",
            "* then `\u001b[1mpython <train.py>\u001b[0m`.\n",
            "\n"
          ],
          "name": "stdout"
        }
      ]
    },
    {
      "cell_type": "code",
      "metadata": {
        "colab": {
          "base_uri": "https://localhost:8080/"
        },
        "id": "aFuoiQuUXHKK",
        "outputId": "a8ccb6b1-55d9-4b05-a057-4c0a21c91556"
      },
      "source": [
        "!python3 training/run_experiment.py --wandb --gpus=-1 --data_class=IAMOriginalAndSyntheticParagraphs --model_class=ResnetTransformer --loss=transformer --batch_size=16 --check_val_every_n_epoch=10 --terminate_on_nan=1 --num_workers=24 --accelerator=ddp --lr=0.0001 --accumulate_grad_batches=4"
      ],
      "execution_count": 15,
      "outputs": [
        {
          "output_type": "stream",
          "text": [
            "\u001b[34m\u001b[1mwandb\u001b[0m: Currently logged in as: \u001b[33mhjahn\u001b[0m (use `wandb login --relogin` to force relogin)\n",
            "2021-04-18 06:58:58.780291: I tensorflow/stream_executor/platform/default/dso_loader.cc:49] Successfully opened dynamic library libcudart.so.11.0\n",
            "\u001b[34m\u001b[1mwandb\u001b[0m: Tracking run with wandb version 0.10.26\n",
            "\u001b[34m\u001b[1mwandb\u001b[0m: Syncing run \u001b[33mswept-darkness-1\u001b[0m\n",
            "\u001b[34m\u001b[1mwandb\u001b[0m: ⭐️ View project at \u001b[34m\u001b[4mhttps://wandb.ai/hjahn/0418train\u001b[0m\n",
            "\u001b[34m\u001b[1mwandb\u001b[0m: 🚀 View run at \u001b[34m\u001b[4mhttps://wandb.ai/hjahn/0418train/runs/3l5a8y4y\u001b[0m\n",
            "\u001b[34m\u001b[1mwandb\u001b[0m: Run data is saved locally in /content/FSDL-2021-futureskill/lab9/wandb/run-20210418_065857-3l5a8y4y\n",
            "\u001b[34m\u001b[1mwandb\u001b[0m: Run `wandb offline` to turn off syncing.\n",
            "\n",
            "/usr/local/lib/python3.7/dist-packages/pytorch_lightning/utilities/distributed.py:49: UserWarning: You have set progress_bar_refresh_rate < 20 on Google Colab. This may crash. Consider using progress_bar_refresh_rate >= 20 in Trainer.\n",
            "  warnings.warn(*args, **kwargs)\n",
            "GPU available: True, used: True\n",
            "TPU available: None, using: 0 TPU cores\n",
            "LOCAL_RANK: 0 - CUDA_VISIBLE_DEVICES: [0]\n",
            "initializing ddp: GLOBAL_RANK: 0, MEMBER: 1/1\n",
            "IAMParagraphs.setup(fit): Loading IAM paragraph regions and lines...\n",
            "IAMSyntheticParagraphs.setup(fit): Loading trainval IAM paragraph regions and lines...\n",
            "11396 samples with 1 lines\n",
            "1514 samples with 2 lines\n",
            "1528 samples with 3 lines\n",
            "1532 samples with 4 lines\n",
            "556 samples with 5 lines\n",
            "576 samples with 6 lines\n",
            "572 samples with 7 lines\n",
            "605 samples with 8 lines\n",
            "596 samples with 9 lines\n",
            "IAMParagraphs.setup(test): Loading IAM paragraph regions and lines...\n",
            "\n",
            "    | Name                                                       | Type                    | Params\n",
            "---------------------------------------------------------------------------------------------------------\n",
            "0   | model                                                      | ResnetTransformer       | 14.0 M\n",
            "1   | model.resnet                                               | Sequential              | 11.2 M\n",
            "2   | model.resnet.0                                             | Conv2d                  | 9.4 K \n",
            "3   | model.resnet.1                                             | BatchNorm2d             | 128   \n",
            "4   | model.resnet.2                                             | ReLU                    | 0     \n",
            "5   | model.resnet.3                                             | MaxPool2d               | 0     \n",
            "6   | model.resnet.4                                             | Sequential              | 147 K \n",
            "7   | model.resnet.4.0                                           | BasicBlock              | 74.0 K\n",
            "8   | model.resnet.4.0.conv1                                     | Conv2d                  | 36.9 K\n",
            "9   | model.resnet.4.0.bn1                                       | BatchNorm2d             | 128   \n",
            "10  | model.resnet.4.0.relu                                      | ReLU                    | 0     \n",
            "11  | model.resnet.4.0.conv2                                     | Conv2d                  | 36.9 K\n",
            "12  | model.resnet.4.0.bn2                                       | BatchNorm2d             | 128   \n",
            "13  | model.resnet.4.1                                           | BasicBlock              | 74.0 K\n",
            "14  | model.resnet.4.1.conv1                                     | Conv2d                  | 36.9 K\n",
            "15  | model.resnet.4.1.bn1                                       | BatchNorm2d             | 128   \n",
            "16  | model.resnet.4.1.relu                                      | ReLU                    | 0     \n",
            "17  | model.resnet.4.1.conv2                                     | Conv2d                  | 36.9 K\n",
            "18  | model.resnet.4.1.bn2                                       | BatchNorm2d             | 128   \n",
            "19  | model.resnet.5                                             | Sequential              | 525 K \n",
            "20  | model.resnet.5.0                                           | BasicBlock              | 230 K \n",
            "21  | model.resnet.5.0.conv1                                     | Conv2d                  | 73.7 K\n",
            "22  | model.resnet.5.0.bn1                                       | BatchNorm2d             | 256   \n",
            "23  | model.resnet.5.0.relu                                      | ReLU                    | 0     \n",
            "24  | model.resnet.5.0.conv2                                     | Conv2d                  | 147 K \n",
            "25  | model.resnet.5.0.bn2                                       | BatchNorm2d             | 256   \n",
            "26  | model.resnet.5.0.downsample                                | Sequential              | 8.4 K \n",
            "27  | model.resnet.5.0.downsample.0                              | Conv2d                  | 8.2 K \n",
            "28  | model.resnet.5.0.downsample.1                              | BatchNorm2d             | 256   \n",
            "29  | model.resnet.5.1                                           | BasicBlock              | 295 K \n",
            "30  | model.resnet.5.1.conv1                                     | Conv2d                  | 147 K \n",
            "31  | model.resnet.5.1.bn1                                       | BatchNorm2d             | 256   \n",
            "32  | model.resnet.5.1.relu                                      | ReLU                    | 0     \n",
            "33  | model.resnet.5.1.conv2                                     | Conv2d                  | 147 K \n",
            "34  | model.resnet.5.1.bn2                                       | BatchNorm2d             | 256   \n",
            "35  | model.resnet.6                                             | Sequential              | 2.1 M \n",
            "36  | model.resnet.6.0                                           | BasicBlock              | 919 K \n",
            "37  | model.resnet.6.0.conv1                                     | Conv2d                  | 294 K \n",
            "38  | model.resnet.6.0.bn1                                       | BatchNorm2d             | 512   \n",
            "39  | model.resnet.6.0.relu                                      | ReLU                    | 0     \n",
            "40  | model.resnet.6.0.conv2                                     | Conv2d                  | 589 K \n",
            "41  | model.resnet.6.0.bn2                                       | BatchNorm2d             | 512   \n",
            "42  | model.resnet.6.0.downsample                                | Sequential              | 33.3 K\n",
            "43  | model.resnet.6.0.downsample.0                              | Conv2d                  | 32.8 K\n",
            "44  | model.resnet.6.0.downsample.1                              | BatchNorm2d             | 512   \n",
            "45  | model.resnet.6.1                                           | BasicBlock              | 1.2 M \n",
            "46  | model.resnet.6.1.conv1                                     | Conv2d                  | 589 K \n",
            "47  | model.resnet.6.1.bn1                                       | BatchNorm2d             | 512   \n",
            "48  | model.resnet.6.1.relu                                      | ReLU                    | 0     \n",
            "49  | model.resnet.6.1.conv2                                     | Conv2d                  | 589 K \n",
            "50  | model.resnet.6.1.bn2                                       | BatchNorm2d             | 512   \n",
            "51  | model.resnet.7                                             | Sequential              | 8.4 M \n",
            "52  | model.resnet.7.0                                           | BasicBlock              | 3.7 M \n",
            "53  | model.resnet.7.0.conv1                                     | Conv2d                  | 1.2 M \n",
            "54  | model.resnet.7.0.bn1                                       | BatchNorm2d             | 1.0 K \n",
            "55  | model.resnet.7.0.relu                                      | ReLU                    | 0     \n",
            "56  | model.resnet.7.0.conv2                                     | Conv2d                  | 2.4 M \n",
            "57  | model.resnet.7.0.bn2                                       | BatchNorm2d             | 1.0 K \n",
            "58  | model.resnet.7.0.downsample                                | Sequential              | 132 K \n",
            "59  | model.resnet.7.0.downsample.0                              | Conv2d                  | 131 K \n",
            "60  | model.resnet.7.0.downsample.1                              | BatchNorm2d             | 1.0 K \n",
            "61  | model.resnet.7.1                                           | BasicBlock              | 4.7 M \n",
            "62  | model.resnet.7.1.conv1                                     | Conv2d                  | 2.4 M \n",
            "63  | model.resnet.7.1.bn1                                       | BatchNorm2d             | 1.0 K \n",
            "64  | model.resnet.7.1.relu                                      | ReLU                    | 0     \n",
            "65  | model.resnet.7.1.conv2                                     | Conv2d                  | 2.4 M \n",
            "66  | model.resnet.7.1.bn2                                       | BatchNorm2d             | 1.0 K \n",
            "67  | model.encoder_projection                                   | Conv2d                  | 131 K \n",
            "68  | model.enc_pos_encoder                                      | PositionalEncodingImage | 0     \n",
            "69  | model.embedding                                            | Embedding               | 21.5 K\n",
            "70  | model.fc                                                   | Linear                  | 21.6 K\n",
            "71  | model.dec_pos_encoder                                      | PositionalEncoding      | 0     \n",
            "72  | model.dec_pos_encoder.dropout                              | Dropout                 | 0     \n",
            "73  | model.transformer_decoder                                  | TransformerDecoder      | 2.6 M \n",
            "74  | model.transformer_decoder.layers                           | ModuleList              | 2.6 M \n",
            "75  | model.transformer_decoder.layers.0                         | TransformerDecoderLayer | 659 K \n",
            "76  | model.transformer_decoder.layers.0.self_attn               | MultiheadAttention      | 263 K \n",
            "77  | model.transformer_decoder.layers.0.self_attn.out_proj      | _LinearWithBias         | 65.8 K\n",
            "78  | model.transformer_decoder.layers.0.multihead_attn          | MultiheadAttention      | 263 K \n",
            "79  | model.transformer_decoder.layers.0.multihead_attn.out_proj | _LinearWithBias         | 65.8 K\n",
            "80  | model.transformer_decoder.layers.0.linear1                 | Linear                  | 65.8 K\n",
            "81  | model.transformer_decoder.layers.0.dropout                 | Dropout                 | 0     \n",
            "82  | model.transformer_decoder.layers.0.linear2                 | Linear                  | 65.8 K\n",
            "83  | model.transformer_decoder.layers.0.norm1                   | LayerNorm               | 512   \n",
            "84  | model.transformer_decoder.layers.0.norm2                   | LayerNorm               | 512   \n",
            "85  | model.transformer_decoder.layers.0.norm3                   | LayerNorm               | 512   \n",
            "86  | model.transformer_decoder.layers.0.dropout1                | Dropout                 | 0     \n",
            "87  | model.transformer_decoder.layers.0.dropout2                | Dropout                 | 0     \n",
            "88  | model.transformer_decoder.layers.0.dropout3                | Dropout                 | 0     \n",
            "89  | model.transformer_decoder.layers.1                         | TransformerDecoderLayer | 659 K \n",
            "90  | model.transformer_decoder.layers.1.self_attn               | MultiheadAttention      | 263 K \n",
            "91  | model.transformer_decoder.layers.1.self_attn.out_proj      | _LinearWithBias         | 65.8 K\n",
            "92  | model.transformer_decoder.layers.1.multihead_attn          | MultiheadAttention      | 263 K \n",
            "93  | model.transformer_decoder.layers.1.multihead_attn.out_proj | _LinearWithBias         | 65.8 K\n",
            "94  | model.transformer_decoder.layers.1.linear1                 | Linear                  | 65.8 K\n",
            "95  | model.transformer_decoder.layers.1.dropout                 | Dropout                 | 0     \n",
            "96  | model.transformer_decoder.layers.1.linear2                 | Linear                  | 65.8 K\n",
            "97  | model.transformer_decoder.layers.1.norm1                   | LayerNorm               | 512   \n",
            "98  | model.transformer_decoder.layers.1.norm2                   | LayerNorm               | 512   \n",
            "99  | model.transformer_decoder.layers.1.norm3                   | LayerNorm               | 512   \n",
            "100 | model.transformer_decoder.layers.1.dropout1                | Dropout                 | 0     \n",
            "101 | model.transformer_decoder.layers.1.dropout2                | Dropout                 | 0     \n",
            "102 | model.transformer_decoder.layers.1.dropout3                | Dropout                 | 0     \n",
            "103 | model.transformer_decoder.layers.2                         | TransformerDecoderLayer | 659 K \n",
            "104 | model.transformer_decoder.layers.2.self_attn               | MultiheadAttention      | 263 K \n",
            "105 | model.transformer_decoder.layers.2.self_attn.out_proj      | _LinearWithBias         | 65.8 K\n",
            "106 | model.transformer_decoder.layers.2.multihead_attn          | MultiheadAttention      | 263 K \n",
            "107 | model.transformer_decoder.layers.2.multihead_attn.out_proj | _LinearWithBias         | 65.8 K\n",
            "108 | model.transformer_decoder.layers.2.linear1                 | Linear                  | 65.8 K\n",
            "109 | model.transformer_decoder.layers.2.dropout                 | Dropout                 | 0     \n",
            "110 | model.transformer_decoder.layers.2.linear2                 | Linear                  | 65.8 K\n",
            "111 | model.transformer_decoder.layers.2.norm1                   | LayerNorm               | 512   \n",
            "112 | model.transformer_decoder.layers.2.norm2                   | LayerNorm               | 512   \n",
            "113 | model.transformer_decoder.layers.2.norm3                   | LayerNorm               | 512   \n",
            "114 | model.transformer_decoder.layers.2.dropout1                | Dropout                 | 0     \n",
            "115 | model.transformer_decoder.layers.2.dropout2                | Dropout                 | 0     \n",
            "116 | model.transformer_decoder.layers.2.dropout3                | Dropout                 | 0     \n",
            "117 | model.transformer_decoder.layers.3                         | TransformerDecoderLayer | 659 K \n",
            "118 | model.transformer_decoder.layers.3.self_attn               | MultiheadAttention      | 263 K \n",
            "119 | model.transformer_decoder.layers.3.self_attn.out_proj      | _LinearWithBias         | 65.8 K\n",
            "120 | model.transformer_decoder.layers.3.multihead_attn          | MultiheadAttention      | 263 K \n",
            "121 | model.transformer_decoder.layers.3.multihead_attn.out_proj | _LinearWithBias         | 65.8 K\n",
            "122 | model.transformer_decoder.layers.3.linear1                 | Linear                  | 65.8 K\n",
            "123 | model.transformer_decoder.layers.3.dropout                 | Dropout                 | 0     \n",
            "124 | model.transformer_decoder.layers.3.linear2                 | Linear                  | 65.8 K\n",
            "125 | model.transformer_decoder.layers.3.norm1                   | LayerNorm               | 512   \n",
            "126 | model.transformer_decoder.layers.3.norm2                   | LayerNorm               | 512   \n",
            "127 | model.transformer_decoder.layers.3.norm3                   | LayerNorm               | 512   \n",
            "128 | model.transformer_decoder.layers.3.dropout1                | Dropout                 | 0     \n",
            "129 | model.transformer_decoder.layers.3.dropout2                | Dropout                 | 0     \n",
            "130 | model.transformer_decoder.layers.3.dropout3                | Dropout                 | 0     \n",
            "131 | train_acc                                                  | Accuracy                | 0     \n",
            "132 | val_acc                                                    | Accuracy                | 0     \n",
            "133 | test_acc                                                   | Accuracy                | 0     \n",
            "134 | loss_fn                                                    | CrossEntropyLoss        | 0     \n",
            "135 | val_cer                                                    | CharacterErrorRate      | 0     \n",
            "136 | test_cer                                                   | CharacterErrorRate      | 0     \n",
            "---------------------------------------------------------------------------------------------------------\n",
            "14.0 M    Trainable params\n",
            "0         Non-trainable params\n",
            "14.0 M    Total params\n",
            "Epoch 1:  10%| | 124/1246 [01:17<11:42,  1.60it/s, loss=2.62, v_num=8y4y, val_lo/usr/local/lib/python3.7/dist-packages/pytorch_lightning/utilities/distributed.py:49: UserWarning: Detected KeyboardInterrupt, attempting graceful shutdown...\n",
            "  warnings.warn(*args, **kwargs)\n",
            "Exception ignored in: <function _MultiProcessingDataLoaderIter.__del__ at 0x7f1e0fc1fa70>\n",
            "Traceback (most recent call last):\n",
            "  File \"/usr/local/lib/python3.7/dist-packages/torch/utils/data/dataloader.py\", line 1203, in __del__\n",
            "    self._shutdown_workers()\n",
            "  File \"/usr/local/lib/python3.7/dist-packages/torch/utils/data/dataloader.py\", line 1177, in _shutdown_workers\n",
            "    w.join(timeout=_utils.MP_STATUS_CHECK_INTERVAL)\n",
            "  File \"/usr/lib/python3.7/multiprocessing/process.py\", line 140, in join\n",
            "    res = self._popen.wait(timeout)\n",
            "  File \"/usr/lib/python3.7/multiprocessing/popen_fork.py\", line 45, in wait\n",
            "    if not wait([self.sentinel], timeout):\n",
            "  File \"/usr/lib/python3.7/multiprocessing/connection.py\", line 921, in wait\n",
            "    ready = selector.select(timeout)\n",
            "  File \"/usr/lib/python3.7/selectors.py\", line 415, in select\n",
            "    fd_event_list = self._selector.poll(timeout)\n",
            "KeyboardInterrupt: \n",
            "Epoch 1:  10%| | 124/1246 [01:22<12:27,  1.50it/s, loss=2.62, v_num=8y4y, val_lo\n",
            "IAMParagraphs.setup(test): Loading IAM paragraph regions and lines...\n",
            "IAMSyntheticParagraphs.setup(test): Loading trainval IAM paragraph regions and lines...\n",
            "IAMParagraphs.setup(test): Loading IAM paragraph regions and lines...\n",
            "Testing: 0it [00:00, ?it/s]/usr/lib/python3.7/multiprocessing/semaphore_tracker.py:144: UserWarning: semaphore_tracker: There appear to be 6 leaked semaphores to clean up at shutdown\n",
            "  len(cache))\n",
            "^C\n"
          ],
          "name": "stdout"
        }
      ]
    },
    {
      "cell_type": "code",
      "metadata": {
        "colab": {
          "base_uri": "https://localhost:8080/"
        },
        "id": "19XfAliI0ht9",
        "outputId": "2573d7ae-1f63-4c1e-d682-b9000dd97f7b"
      },
      "source": [
        "!python3 training/save_best_model.py --entity=srbhchandra --trained_data_class=IAMOriginalAndSyntheticParagraphs"
      ],
      "execution_count": 11,
      "outputs": [
        {
          "output_type": "stream",
          "text": [
            "Best run (fiery-spaceship-105, 2x9f8e1b) picked from 18 runs with the following metrics:\n",
            " - val_loss: 0.06945117563009262, val_cer: 0.07207698374986649, test_cer: 0.17535383999347687\n",
            "Traceback (most recent call last):\n",
            "  File \"/usr/local/lib/python3.7/dist-packages/wandb/apis/normalize.py\", line 24, in wrapper\n",
            "    return func(*args, **kwargs)\n",
            "  File \"/usr/local/lib/python3.7/dist-packages/wandb/apis/public.py\", line 1165, in file\n",
            "    return Files(self.client, self, [name])[0]\n",
            "  File \"/usr/local/lib/python3.7/dist-packages/wandb/apis/public.py\", line 636, in __getitem__\n",
            "    return self.objects[index]\n",
            "IndexError: list index out of range\n",
            "\n",
            "During handling of the above exception, another exception occurred:\n",
            "\n",
            "Traceback (most recent call last):\n",
            "  File \"training/save_best_model.py\", line 134, in <module>\n",
            "    save_best_model()\n",
            "  File \"training/save_best_model.py\", line 56, in save_best_model\n",
            "    file.write(_get_run_command(best_run))\n",
            "  File \"training/save_best_model.py\", line 106, in _get_run_command\n",
            "    wandb_file = wandb_run.file(\"wandb-metadata.json\")\n",
            "  File \"/usr/local/lib/python3.7/dist-packages/wandb/apis/normalize.py\", line 62, in wrapper\n",
            "    six.reraise(CommError, CommError(message, err), sys.exc_info()[2])\n",
            "  File \"/usr/local/lib/python3.7/dist-packages/six.py\", line 702, in reraise\n",
            "    raise value.with_traceback(tb)\n",
            "  File \"/usr/local/lib/python3.7/dist-packages/wandb/apis/normalize.py\", line 24, in wrapper\n",
            "    return func(*args, **kwargs)\n",
            "  File \"/usr/local/lib/python3.7/dist-packages/wandb/apis/public.py\", line 1165, in file\n",
            "    return Files(self.client, self, [name])[0]\n",
            "  File \"/usr/local/lib/python3.7/dist-packages/wandb/apis/public.py\", line 636, in __getitem__\n",
            "    return self.objects[index]\n",
            "wandb.errors.CommError: list index out of range\n"
          ],
          "name": "stdout"
        }
      ]
    },
    {
      "cell_type": "code",
      "metadata": {
        "colab": {
          "base_uri": "https://localhost:8080/"
        },
        "id": "trsHejlr1BJv",
        "outputId": "6d796006-e7f3-4c3a-88cc-e53282e2dac5"
      },
      "source": [
        "!wandb enabled"
      ],
      "execution_count": 6,
      "outputs": [
        {
          "output_type": "stream",
          "text": [
            "W&B enabled.\n"
          ],
          "name": "stdout"
        }
      ]
    },
    {
      "cell_type": "code",
      "metadata": {
        "id": "jQYM-K7j2p7A"
      },
      "source": [
        ""
      ],
      "execution_count": null,
      "outputs": []
    }
  ]
}